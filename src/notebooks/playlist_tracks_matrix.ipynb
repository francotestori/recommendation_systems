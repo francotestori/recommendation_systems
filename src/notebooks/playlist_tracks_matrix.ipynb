{
 "cells": [
  {
   "cell_type": "code",
   "execution_count": 1,
   "outputs": [],
   "source": [
    "import pandas as pd\n",
    "import numpy as np\n",
    "from utils import ROOT_DIR"
   ],
   "metadata": {
    "collapsed": false,
    "pycharm": {
     "name": "#%%\n"
    }
   }
  },
  {
   "cell_type": "code",
   "execution_count": 2,
   "outputs": [
    {
     "data": {
      "text/plain": "   pid               track_uri  pos\n0    0  0UaMYEvWZi0ZqiDOoHU3YI    0\n1    0  6I9VzXrHxO9rA9A5euc8Ak    1\n2    0  0WqIKmW4BTrj3eJFmnCKMv    2",
      "text/html": "<div>\n<style scoped>\n    .dataframe tbody tr th:only-of-type {\n        vertical-align: middle;\n    }\n\n    .dataframe tbody tr th {\n        vertical-align: top;\n    }\n\n    .dataframe thead th {\n        text-align: right;\n    }\n</style>\n<table border=\"1\" class=\"dataframe\">\n  <thead>\n    <tr style=\"text-align: right;\">\n      <th></th>\n      <th>pid</th>\n      <th>track_uri</th>\n      <th>pos</th>\n    </tr>\n  </thead>\n  <tbody>\n    <tr>\n      <th>0</th>\n      <td>0</td>\n      <td>0UaMYEvWZi0ZqiDOoHU3YI</td>\n      <td>0</td>\n    </tr>\n    <tr>\n      <th>1</th>\n      <td>0</td>\n      <td>6I9VzXrHxO9rA9A5euc8Ak</td>\n      <td>1</td>\n    </tr>\n    <tr>\n      <th>2</th>\n      <td>0</td>\n      <td>0WqIKmW4BTrj3eJFmnCKMv</td>\n      <td>2</td>\n    </tr>\n  </tbody>\n</table>\n</div>"
     },
     "execution_count": 2,
     "metadata": {},
     "output_type": "execute_result"
    }
   ],
   "source": [
    "df_interactions = pd.read_csv(\n",
    "    f\"{ROOT_DIR}/data/mdp_interactions.csv\"\n",
    ")\n",
    "\n",
    "df_interactions.head(3)"
   ],
   "metadata": {
    "collapsed": false,
    "pycharm": {
     "name": "#%%\n"
    }
   }
  },
  {
   "cell_type": "code",
   "execution_count": 3,
   "outputs": [
    {
     "data": {
      "text/plain": "                      track_uri  count    mean_pos mode_pos  median_pos\n2128659  7KXjTSCq5nL1LoYtL7XAwS  46574   54.675012        0        38.0\n573135   1xznGGDReH1oQq0xzbwXa3  43447   44.401754        0        29.0\n2257360  7yyRTcZmCiyzzJlNzGC9Ol  41309   44.400663        0        29.0\n2085721  7BKLCZ1jbUBVqRi2FVlTVw  41079   47.979113        0        33.0\n1041889  3a1lNhkSLSkpJE4MSHpDu9  39987   50.191437        4        34.0\n...                         ...    ...         ...      ...         ...\n496841   1hjKpLKdiuYRY082UF3quN      1    6.000000        6         6.0\n496843   1hjLagaRWzJwVBOKuLL9nC      1  211.000000      211       211.0\n1366164  4hHJof8n4Z3Hw5GkHxkZrJ      1  136.000000      136       136.0\n496844   1hjMy1ztIFTqSDwNFBL6gl      1    6.000000        6         6.0\n0        0000uJA4xCdxThagdLkkLR      1   13.000000       13        13.0\n\n[2262292 rows x 5 columns]",
      "text/html": "<div>\n<style scoped>\n    .dataframe tbody tr th:only-of-type {\n        vertical-align: middle;\n    }\n\n    .dataframe tbody tr th {\n        vertical-align: top;\n    }\n\n    .dataframe thead th {\n        text-align: right;\n    }\n</style>\n<table border=\"1\" class=\"dataframe\">\n  <thead>\n    <tr style=\"text-align: right;\">\n      <th></th>\n      <th>track_uri</th>\n      <th>count</th>\n      <th>mean_pos</th>\n      <th>mode_pos</th>\n      <th>median_pos</th>\n    </tr>\n  </thead>\n  <tbody>\n    <tr>\n      <th>2128659</th>\n      <td>7KXjTSCq5nL1LoYtL7XAwS</td>\n      <td>46574</td>\n      <td>54.675012</td>\n      <td>0</td>\n      <td>38.0</td>\n    </tr>\n    <tr>\n      <th>573135</th>\n      <td>1xznGGDReH1oQq0xzbwXa3</td>\n      <td>43447</td>\n      <td>44.401754</td>\n      <td>0</td>\n      <td>29.0</td>\n    </tr>\n    <tr>\n      <th>2257360</th>\n      <td>7yyRTcZmCiyzzJlNzGC9Ol</td>\n      <td>41309</td>\n      <td>44.400663</td>\n      <td>0</td>\n      <td>29.0</td>\n    </tr>\n    <tr>\n      <th>2085721</th>\n      <td>7BKLCZ1jbUBVqRi2FVlTVw</td>\n      <td>41079</td>\n      <td>47.979113</td>\n      <td>0</td>\n      <td>33.0</td>\n    </tr>\n    <tr>\n      <th>1041889</th>\n      <td>3a1lNhkSLSkpJE4MSHpDu9</td>\n      <td>39987</td>\n      <td>50.191437</td>\n      <td>4</td>\n      <td>34.0</td>\n    </tr>\n    <tr>\n      <th>...</th>\n      <td>...</td>\n      <td>...</td>\n      <td>...</td>\n      <td>...</td>\n      <td>...</td>\n    </tr>\n    <tr>\n      <th>496841</th>\n      <td>1hjKpLKdiuYRY082UF3quN</td>\n      <td>1</td>\n      <td>6.000000</td>\n      <td>6</td>\n      <td>6.0</td>\n    </tr>\n    <tr>\n      <th>496843</th>\n      <td>1hjLagaRWzJwVBOKuLL9nC</td>\n      <td>1</td>\n      <td>211.000000</td>\n      <td>211</td>\n      <td>211.0</td>\n    </tr>\n    <tr>\n      <th>1366164</th>\n      <td>4hHJof8n4Z3Hw5GkHxkZrJ</td>\n      <td>1</td>\n      <td>136.000000</td>\n      <td>136</td>\n      <td>136.0</td>\n    </tr>\n    <tr>\n      <th>496844</th>\n      <td>1hjMy1ztIFTqSDwNFBL6gl</td>\n      <td>1</td>\n      <td>6.000000</td>\n      <td>6</td>\n      <td>6.0</td>\n    </tr>\n    <tr>\n      <th>0</th>\n      <td>0000uJA4xCdxThagdLkkLR</td>\n      <td>1</td>\n      <td>13.000000</td>\n      <td>13</td>\n      <td>13.0</td>\n    </tr>\n  </tbody>\n</table>\n<p>2262292 rows × 5 columns</p>\n</div>"
     },
     "execution_count": 3,
     "metadata": {},
     "output_type": "execute_result"
    }
   ],
   "source": [
    "df_track_interactions = df_interactions.groupby('track_uri').agg(\n",
    "    count = ('track_uri', 'count'),\n",
    "    additive_pos = ('pos', 'sum'))\n",
    "\n",
    "df_track_interactions.reset_index(inplace=True)\n",
    "df_track_interactions.sort_values(by='count', ascending=False, inplace=True)\n",
    "\n",
    "df_track_interactions"
   ],
   "metadata": {
    "collapsed": false,
    "pycharm": {
     "name": "#%%\n"
    }
   }
  },
  {
   "cell_type": "code",
   "execution_count": 4,
   "outputs": [],
   "source": [
    "# Store track interactions into results\n",
    "df_track_interactions.to_pickle(f\"{ROOT_DIR}/results/df_track_interactions.pickle\")"
   ],
   "metadata": {
    "collapsed": false,
    "pycharm": {
     "name": "#%%\n"
    }
   }
  },
  {
   "cell_type": "code",
   "execution_count": 5,
   "outputs": [
    {
     "data": {
      "text/plain": "                track_uri        artist_name              artist_uri  \\\n0  0UaMYEvWZi0ZqiDOoHU3YI      Missy Elliott  2wIVse2owClT7go1WT98tk   \n1  6I9VzXrHxO9rA9A5euc8Ak     Britney Spears  26dSoYclwsYLMAKD3tpOr4   \n2  0WqIKmW4BTrj3eJFmnCKMv            Beyoncé  6vWDO969PvNqNYHIOW5v0m   \n3  1AWQoqb9bSvzTjaLralEkT  Justin Timberlake  31TPClRtHm23RisEBtV3X7   \n4  1lzr43nnXAijIGYnCT8M8H             Shaggy  5EvFsr3kj42KNv97ZEnqij   \n\n                                   track_name  \\\n0  Lose Control (feat. Ciara & Fat Man Scoop)   \n1                                       Toxic   \n2                               Crazy In Love   \n3                              Rock Your Body   \n4                                It Wasn't Me   \n\n                              album_uri  \\\n0  spotify:album:6vV5UrXcfyQD1wu4Qo2I9K   \n1  spotify:album:0z7pVBGOD7HCIB7S8eLkLI   \n2  spotify:album:25hVFAxTlDvXbx2X2QkUkE   \n3  spotify:album:6QPkyl04rXwTGlGlcYaRoW   \n4  spotify:album:6NmFmPX56pcLBOFMhIiKvF   \n\n                                     album_name  duration_ms  \n0                                  The Cookbook       226863  \n1                                   In The Zone       198800  \n2  Dangerously In Love (Alben für die Ewigkeit)       235933  \n3                                     Justified       267266  \n4                                      Hot Shot       227600  ",
      "text/html": "<div>\n<style scoped>\n    .dataframe tbody tr th:only-of-type {\n        vertical-align: middle;\n    }\n\n    .dataframe tbody tr th {\n        vertical-align: top;\n    }\n\n    .dataframe thead th {\n        text-align: right;\n    }\n</style>\n<table border=\"1\" class=\"dataframe\">\n  <thead>\n    <tr style=\"text-align: right;\">\n      <th></th>\n      <th>track_uri</th>\n      <th>artist_name</th>\n      <th>artist_uri</th>\n      <th>track_name</th>\n      <th>album_uri</th>\n      <th>album_name</th>\n      <th>duration_ms</th>\n    </tr>\n  </thead>\n  <tbody>\n    <tr>\n      <th>0</th>\n      <td>0UaMYEvWZi0ZqiDOoHU3YI</td>\n      <td>Missy Elliott</td>\n      <td>2wIVse2owClT7go1WT98tk</td>\n      <td>Lose Control (feat. Ciara &amp; Fat Man Scoop)</td>\n      <td>spotify:album:6vV5UrXcfyQD1wu4Qo2I9K</td>\n      <td>The Cookbook</td>\n      <td>226863</td>\n    </tr>\n    <tr>\n      <th>1</th>\n      <td>6I9VzXrHxO9rA9A5euc8Ak</td>\n      <td>Britney Spears</td>\n      <td>26dSoYclwsYLMAKD3tpOr4</td>\n      <td>Toxic</td>\n      <td>spotify:album:0z7pVBGOD7HCIB7S8eLkLI</td>\n      <td>In The Zone</td>\n      <td>198800</td>\n    </tr>\n    <tr>\n      <th>2</th>\n      <td>0WqIKmW4BTrj3eJFmnCKMv</td>\n      <td>Beyoncé</td>\n      <td>6vWDO969PvNqNYHIOW5v0m</td>\n      <td>Crazy In Love</td>\n      <td>spotify:album:25hVFAxTlDvXbx2X2QkUkE</td>\n      <td>Dangerously In Love (Alben für die Ewigkeit)</td>\n      <td>235933</td>\n    </tr>\n    <tr>\n      <th>3</th>\n      <td>1AWQoqb9bSvzTjaLralEkT</td>\n      <td>Justin Timberlake</td>\n      <td>31TPClRtHm23RisEBtV3X7</td>\n      <td>Rock Your Body</td>\n      <td>spotify:album:6QPkyl04rXwTGlGlcYaRoW</td>\n      <td>Justified</td>\n      <td>267266</td>\n    </tr>\n    <tr>\n      <th>4</th>\n      <td>1lzr43nnXAijIGYnCT8M8H</td>\n      <td>Shaggy</td>\n      <td>5EvFsr3kj42KNv97ZEnqij</td>\n      <td>It Wasn't Me</td>\n      <td>spotify:album:6NmFmPX56pcLBOFMhIiKvF</td>\n      <td>Hot Shot</td>\n      <td>227600</td>\n    </tr>\n  </tbody>\n</table>\n</div>"
     },
     "execution_count": 5,
     "metadata": {},
     "output_type": "execute_result"
    }
   ],
   "source": [
    "df_tracks = pd.read_csv(\n",
    "    f\"{ROOT_DIR}/data/mdp_tracks.csv\"\n",
    ")\n",
    "df_tracks.artist_uri = df_tracks.artist_uri.apply(lambda x: x.replace('spotify:artist:',''))\n",
    "\n",
    "df_tracks.head(5)"
   ],
   "metadata": {
    "collapsed": false,
    "pycharm": {
     "name": "#%%\n"
    }
   }
  },
  {
   "cell_type": "code",
   "execution_count": 6,
   "outputs": [
    {
     "data": {
      "text/plain": "                artist_uri  dance pop  rock  pop  electro house  latin  \\\n0   11VJahxEh2Fs2pXXVxdYeo          0     0    0              0      0   \n1   4Dl8unj6USQNaEsaQdMegn          0     0    0              0      0   \n2   409qREwneDD43Jr4dvzsB3          0     0    0              0      0   \n8   4pliqGKLKjF8vr9PXzNkog          0     0    0              0      0   \n10  13l03qv7mpBV432l5t8fpq          0     0    0              0      0   \n\n    hip hop  pop rap  edm  filmi  ...  kyrgyz hip hop  t-pop girl group  \\\n0         0        0    0      0  ...               0                 0   \n1         0        0    0      0  ...               0                 0   \n2         0        0    0      0  ...               0                 0   \n8         0        0    0      0  ...               0                 0   \n10        0        0    0      0  ...               0                 0   \n\n    baluchi folk  rap pernambucano  rock campineiro  emo trap en espanol  \\\n0              0                 0                0                    0   \n1              0                 0                0                    0   \n2              0                 0                0                    0   \n8              0                 0                0                    0   \n10             0                 0                0                    0   \n\n    schrammelmusik  esperanto  malang punk  rap mineiro  \n0                0          0            0            0  \n1                0          0            0            0  \n2                0          0            0            0  \n8                0          0            0            0  \n10               0          0            0            0  \n\n[5 rows x 5455 columns]",
      "text/html": "<div>\n<style scoped>\n    .dataframe tbody tr th:only-of-type {\n        vertical-align: middle;\n    }\n\n    .dataframe tbody tr th {\n        vertical-align: top;\n    }\n\n    .dataframe thead th {\n        text-align: right;\n    }\n</style>\n<table border=\"1\" class=\"dataframe\">\n  <thead>\n    <tr style=\"text-align: right;\">\n      <th></th>\n      <th>artist_uri</th>\n      <th>dance pop</th>\n      <th>rock</th>\n      <th>pop</th>\n      <th>electro house</th>\n      <th>latin</th>\n      <th>hip hop</th>\n      <th>pop rap</th>\n      <th>edm</th>\n      <th>filmi</th>\n      <th>...</th>\n      <th>kyrgyz hip hop</th>\n      <th>t-pop girl group</th>\n      <th>baluchi folk</th>\n      <th>rap pernambucano</th>\n      <th>rock campineiro</th>\n      <th>emo trap en espanol</th>\n      <th>schrammelmusik</th>\n      <th>esperanto</th>\n      <th>malang punk</th>\n      <th>rap mineiro</th>\n    </tr>\n  </thead>\n  <tbody>\n    <tr>\n      <th>0</th>\n      <td>11VJahxEh2Fs2pXXVxdYeo</td>\n      <td>0</td>\n      <td>0</td>\n      <td>0</td>\n      <td>0</td>\n      <td>0</td>\n      <td>0</td>\n      <td>0</td>\n      <td>0</td>\n      <td>0</td>\n      <td>...</td>\n      <td>0</td>\n      <td>0</td>\n      <td>0</td>\n      <td>0</td>\n      <td>0</td>\n      <td>0</td>\n      <td>0</td>\n      <td>0</td>\n      <td>0</td>\n      <td>0</td>\n    </tr>\n    <tr>\n      <th>1</th>\n      <td>4Dl8unj6USQNaEsaQdMegn</td>\n      <td>0</td>\n      <td>0</td>\n      <td>0</td>\n      <td>0</td>\n      <td>0</td>\n      <td>0</td>\n      <td>0</td>\n      <td>0</td>\n      <td>0</td>\n      <td>...</td>\n      <td>0</td>\n      <td>0</td>\n      <td>0</td>\n      <td>0</td>\n      <td>0</td>\n      <td>0</td>\n      <td>0</td>\n      <td>0</td>\n      <td>0</td>\n      <td>0</td>\n    </tr>\n    <tr>\n      <th>2</th>\n      <td>409qREwneDD43Jr4dvzsB3</td>\n      <td>0</td>\n      <td>0</td>\n      <td>0</td>\n      <td>0</td>\n      <td>0</td>\n      <td>0</td>\n      <td>0</td>\n      <td>0</td>\n      <td>0</td>\n      <td>...</td>\n      <td>0</td>\n      <td>0</td>\n      <td>0</td>\n      <td>0</td>\n      <td>0</td>\n      <td>0</td>\n      <td>0</td>\n      <td>0</td>\n      <td>0</td>\n      <td>0</td>\n    </tr>\n    <tr>\n      <th>8</th>\n      <td>4pliqGKLKjF8vr9PXzNkog</td>\n      <td>0</td>\n      <td>0</td>\n      <td>0</td>\n      <td>0</td>\n      <td>0</td>\n      <td>0</td>\n      <td>0</td>\n      <td>0</td>\n      <td>0</td>\n      <td>...</td>\n      <td>0</td>\n      <td>0</td>\n      <td>0</td>\n      <td>0</td>\n      <td>0</td>\n      <td>0</td>\n      <td>0</td>\n      <td>0</td>\n      <td>0</td>\n      <td>0</td>\n    </tr>\n    <tr>\n      <th>10</th>\n      <td>13l03qv7mpBV432l5t8fpq</td>\n      <td>0</td>\n      <td>0</td>\n      <td>0</td>\n      <td>0</td>\n      <td>0</td>\n      <td>0</td>\n      <td>0</td>\n      <td>0</td>\n      <td>0</td>\n      <td>...</td>\n      <td>0</td>\n      <td>0</td>\n      <td>0</td>\n      <td>0</td>\n      <td>0</td>\n      <td>0</td>\n      <td>0</td>\n      <td>0</td>\n      <td>0</td>\n      <td>0</td>\n    </tr>\n  </tbody>\n</table>\n<p>5 rows × 5455 columns</p>\n</div>"
     },
     "execution_count": 6,
     "metadata": {},
     "output_type": "execute_result"
    }
   ],
   "source": [
    "# Levantar el pickle de perfiles de artistas\n",
    "df_artists_profile = pd.read_pickle(\n",
    "    f\"{ROOT_DIR}/results/artists_profiles_all_genres.pickle\"\n",
    ")\n",
    "\n",
    "df_artists_profile.head(5)\n"
   ],
   "metadata": {
    "collapsed": false,
    "pycharm": {
     "name": "#%%\n"
    }
   }
  },
  {
   "cell_type": "code",
   "execution_count": 7,
   "outputs": [
    {
     "data": {
      "text/plain": "                   track_uri              artist_uri  interactions\n1335  7KXjTSCq5nL1LoYtL7XAwS  2YZyLoL8N0Wb9xBt1NhZWg         46574\n3713  1xznGGDReH1oQq0xzbwXa3  3TVXtAsR1Inumwj472S9r4         43447\n1396  7yyRTcZmCiyzzJlNzGC9Ol  5M0lbkGluOPXLeFjApw8r8         41309\n1874  7BKLCZ1jbUBVqRi2FVlTVw  69GGBxA162lTqCwzJG5jLp         41079\n2715  3a1lNhkSLSkpJE4MSHpDu9  246dkjvS1zLTtiykXe5h60         39987",
      "text/html": "<div>\n<style scoped>\n    .dataframe tbody tr th:only-of-type {\n        vertical-align: middle;\n    }\n\n    .dataframe tbody tr th {\n        vertical-align: top;\n    }\n\n    .dataframe thead th {\n        text-align: right;\n    }\n</style>\n<table border=\"1\" class=\"dataframe\">\n  <thead>\n    <tr style=\"text-align: right;\">\n      <th></th>\n      <th>track_uri</th>\n      <th>artist_uri</th>\n      <th>interactions</th>\n    </tr>\n  </thead>\n  <tbody>\n    <tr>\n      <th>1335</th>\n      <td>7KXjTSCq5nL1LoYtL7XAwS</td>\n      <td>2YZyLoL8N0Wb9xBt1NhZWg</td>\n      <td>46574</td>\n    </tr>\n    <tr>\n      <th>3713</th>\n      <td>1xznGGDReH1oQq0xzbwXa3</td>\n      <td>3TVXtAsR1Inumwj472S9r4</td>\n      <td>43447</td>\n    </tr>\n    <tr>\n      <th>1396</th>\n      <td>7yyRTcZmCiyzzJlNzGC9Ol</td>\n      <td>5M0lbkGluOPXLeFjApw8r8</td>\n      <td>41309</td>\n    </tr>\n    <tr>\n      <th>1874</th>\n      <td>7BKLCZ1jbUBVqRi2FVlTVw</td>\n      <td>69GGBxA162lTqCwzJG5jLp</td>\n      <td>41079</td>\n    </tr>\n    <tr>\n      <th>2715</th>\n      <td>3a1lNhkSLSkpJE4MSHpDu9</td>\n      <td>246dkjvS1zLTtiykXe5h60</td>\n      <td>39987</td>\n    </tr>\n  </tbody>\n</table>\n</div>"
     },
     "execution_count": 7,
     "metadata": {},
     "output_type": "execute_result"
    }
   ],
   "source": [
    "df_track_artist_with_interactions = pd.merge(\n",
    "    df_tracks[['track_uri', 'artist_uri']],\n",
    "    df_track_interactions[['track_uri', 'count']],\n",
    "    on=['track_uri']\n",
    ")\n",
    "df_track_artist_with_interactions.rename(columns={'count': 'interactions'}, inplace=True)\n",
    "\n",
    "df_track_artist_with_interactions.sort_values(by='interactions', ascending=False, inplace=True)\n",
    "\n",
    "df_track_artist_with_interactions.head(5)"
   ],
   "metadata": {
    "collapsed": false,
    "pycharm": {
     "name": "#%%\n"
    }
   }
  },
  {
   "cell_type": "code",
   "execution_count": 8,
   "outputs": [
    {
     "data": {
      "text/plain": "array([ 1.,  1.,  1.,  1.,  1.,  1.,  1.,  1.,  1.,  1.,  2.,  2.,  2.,\n        3.,  4.,  5.,  7., 11., 20., 53.])"
     },
     "execution_count": 8,
     "metadata": {},
     "output_type": "execute_result"
    }
   ],
   "source": [
    "np.quantile(\n",
    "    df_track_artist_with_interactions.interactions,\n",
    "    q=np.arange(0, 1, 0.05)\n",
    ")"
   ],
   "metadata": {
    "collapsed": false,
    "pycharm": {
     "name": "#%%\n"
    }
   }
  },
  {
   "cell_type": "code",
   "execution_count": 9,
   "outputs": [],
   "source": [
    "# Filter track & artists with at least 5 interaction\n",
    "top_artists = df_track_artist_with_interactions.query(\"interactions > 5\").artist_uri"
   ],
   "metadata": {
    "collapsed": false,
    "pycharm": {
     "name": "#%%\n"
    }
   }
  },
  {
   "cell_type": "code",
   "execution_count": 10,
   "outputs": [],
   "source": [
    "# I will use artist genre profile only for those top_artists\n",
    "\n",
    "artists_profile = pd.merge(\n",
    "    df_artists_profile,\n",
    "    top_artists\n",
    ")"
   ],
   "metadata": {
    "collapsed": false,
    "pycharm": {
     "name": "#%%\n"
    }
   }
  },
  {
   "cell_type": "code",
   "execution_count": 11,
   "outputs": [
    {
     "data": {
      "text/plain": "(475279, 5455)"
     },
     "execution_count": 11,
     "metadata": {},
     "output_type": "execute_result"
    }
   ],
   "source": [
    "artists_profile.shape"
   ],
   "metadata": {
    "collapsed": false,
    "pycharm": {
     "name": "#%%\n"
    }
   }
  },
  {
   "cell_type": "code",
   "execution_count": 12,
   "outputs": [],
   "source": [
    "genres_list = df_artists_profile.columns.to_list()[1::]"
   ],
   "metadata": {
    "collapsed": false,
    "pycharm": {
     "name": "#%%\n"
    }
   }
  },
  {
   "cell_type": "code",
   "execution_count": 13,
   "outputs": [],
   "source": [
    "from sklearn.decomposition import TruncatedSVD\n",
    "import matplotlib.pyplot as plt\n",
    "\n",
    "\n",
    "def create_SVD_variance_df(amenities_matrix, random_state, n_components=30):\n",
    "    \"\"\"\n",
    "    Create dataframe with total variance by component and variance improvement by component\n",
    "\n",
    "    :param amenities_matrix:\n",
    "    :param random_state:\n",
    "    :param n_components:\n",
    "    :return:\n",
    "    \"\"\"\n",
    "    svd = TruncatedSVD(n_components=n_components, random_state=random_state)\n",
    "    X_reduced = svd.fit_transform(amenities_matrix)\n",
    "    svd_variance_df = pd.DataFrame({\n",
    "        'n_component':list(range(1, n_components + 1)),\n",
    "        'variance': svd.explained_variance_ratio_.tolist()}\n",
    "    )\n",
    "    svd_variance_df['total_variance'] = svd_variance_df.variance.cumsum()\n",
    "    svd_variance_df['total_variance_change'] = (svd_variance_df.total_variance - svd_variance_df.total_variance.shift(1))\\\n",
    "                                                 / svd_variance_df.total_variance.shift(1)\n",
    "    return svd_variance_df\n",
    "\n",
    "\n",
    "def select_SVD_n_components(svd_variance_df, min_total_variance, min_variance_change):\n",
    "    \"\"\"\n",
    "    Select optimal number of components by minimum total variance and variance improvement.\n",
    "    In the case that multiple components meet the criteria, the lowest number of components will be selected\n",
    "\n",
    "    :param svd_variance_df:\n",
    "    :param min_total_variance:\n",
    "    :param min_variance_change:\n",
    "    :return:\n",
    "    \"\"\"\n",
    "    n_components = svd_variance_df.query(f\"total_variance >= {min_total_variance} & total_variance_change <{min_variance_change}\").n_component.min()\n",
    "    total_variance = svd_variance_df.query(f\"n_component == {n_components}\").total_variance.iloc[0]\n",
    "    return n_components, total_variance\n",
    "\n",
    "\n",
    "def plot_SVD_variance(svd_variance_df, n_components):\n",
    "    \"\"\"\n",
    "    Plot variance and total variance by component\n",
    "\n",
    "    :param svd_variance_df:\n",
    "    :param n_components:\n",
    "    :return:\n",
    "    \"\"\"\n",
    "    fig, axes = plt.subplots(nrows=2, figsize=(12, 10))\n",
    "    svd_variance_df.plot.line(\n",
    "        x='n_component',\n",
    "        y='variance',\n",
    "        style='-o',\n",
    "        title=f\"% variance explained by component\",\n",
    "        ax=axes[0]\n",
    "    ).axvline(\n",
    "        x=n_components,\n",
    "        linestyle='--',\n",
    "        color='black'\n",
    "    )\n",
    "\n",
    "    svd_variance_df.plot.line(\n",
    "        x='n_component',\n",
    "        y='total_variance',\n",
    "        style='-o',\n",
    "        title=f\"% total variance explained\",\n",
    "        c='green',\n",
    "        ax=axes[1]\n",
    "    ).axvline(\n",
    "        x=n_components,\n",
    "        linestyle='--',\n",
    "        color='black'\n",
    "    )\n",
    "\n",
    "    plt.show()"
   ],
   "metadata": {
    "collapsed": false,
    "pycharm": {
     "name": "#%%\n"
    }
   }
  },
  {
   "cell_type": "code",
   "execution_count": 14,
   "outputs": [],
   "source": [
    "X = artists_profile.set_index(\"artist_uri\")"
   ],
   "metadata": {
    "collapsed": false,
    "pycharm": {
     "name": "#%%\n"
    }
   }
  },
  {
   "cell_type": "code",
   "execution_count": 15,
   "outputs": [],
   "source": [
    "N_COMPONENTS = 1500\n",
    "RANDOM_STATE = 671993"
   ],
   "metadata": {
    "collapsed": false,
    "pycharm": {
     "name": "#%%\n"
    }
   }
  },
  {
   "cell_type": "code",
   "execution_count": null,
   "outputs": [],
   "source": [
    "svd_variance_df = create_SVD_variance_df(\n",
    "    X,\n",
    "    random_state=RANDOM_STATE,\n",
    "    n_components=N_COMPONENTS\n",
    ")"
   ],
   "metadata": {
    "collapsed": false,
    "pycharm": {
     "name": "#%%\n",
     "is_executing": true
    }
   }
  },
  {
   "cell_type": "code",
   "execution_count": null,
   "outputs": [],
   "source": [
    "svd_variance_df.head()"
   ],
   "metadata": {
    "collapsed": false,
    "pycharm": {
     "name": "#%%\n",
     "is_executing": true
    }
   }
  },
  {
   "cell_type": "code",
   "execution_count": null,
   "outputs": [],
   "source": [
    "plot_SVD_variance(svd_variance_df, 1000)"
   ],
   "metadata": {
    "collapsed": false,
    "pycharm": {
     "name": "#%%\n",
     "is_executing": true
    }
   }
  },
  {
   "cell_type": "code",
   "execution_count": null,
   "outputs": [],
   "source": [
    "# Number of components for final matrix\n",
    "N_COMPONENTS=700"
   ],
   "metadata": {
    "collapsed": false,
    "pycharm": {
     "name": "#%%\n",
     "is_executing": true
    }
   }
  },
  {
   "cell_type": "code",
   "execution_count": null,
   "outputs": [],
   "source": [
    "# Generate SVD\n",
    "svd = TruncatedSVD(\n",
    "    n_components=N_COMPONENTS,\n",
    "    random_state=RANDOM_STATE\n",
    ")"
   ],
   "metadata": {
    "collapsed": false,
    "pycharm": {
     "name": "#%%\n",
     "is_executing": true
    }
   }
  },
  {
   "cell_type": "code",
   "execution_count": null,
   "outputs": [],
   "source": [
    "# Embedding dataframe creation\n",
    "X_reduced = svd.fit_transform(X)\n",
    "EMDEDDING_COLS = [f\"emb_{i}\" for i in range(N_COMPONENTS)]\n",
    "embedding_df = pd.DataFrame(X_reduced, columns=EMDEDDING_COLS)\n",
    "embedding_df.index = X.index"
   ],
   "metadata": {
    "collapsed": false,
    "pycharm": {
     "name": "#%%\n",
     "is_executing": true
    }
   }
  },
  {
   "cell_type": "code",
   "execution_count": null,
   "outputs": [],
   "source": [
    "# Total variance\n",
    "sum(svd.explained_variance_ratio_)"
   ],
   "metadata": {
    "collapsed": false,
    "pycharm": {
     "name": "#%%\n",
     "is_executing": true
    }
   }
  },
  {
   "cell_type": "code",
   "execution_count": null,
   "outputs": [],
   "source": [
    "from sklearn.metrics import pairwise_distances\n",
    "\n",
    "def create_distance_matrix(selected_emb_df, metric):\n",
    "    \"\"\"\n",
    "    Create distance matrix based on selected embeddings\n",
    "\n",
    "    :param selected_emb_df:\n",
    "    :param metric:\n",
    "    :return:\n",
    "    \"\"\"\n",
    "    distance_matrix = pd.DataFrame(\n",
    "        pairwise_distances(\n",
    "            selected_emb_df.values,\n",
    "            metric=metric\n",
    "        ),\n",
    "        index=selected_emb_df.index,\n",
    "        columns=selected_emb_df.index\n",
    "    )\n",
    "    return distance_matrix"
   ],
   "metadata": {
    "collapsed": false,
    "pycharm": {
     "name": "#%%\n",
     "is_executing": true
    }
   }
  },
  {
   "cell_type": "code",
   "execution_count": null,
   "outputs": [],
   "source": [
    "distance_matrix = create_distance_matrix(embedding_df, 'cosine')"
   ],
   "metadata": {
    "collapsed": false,
    "pycharm": {
     "name": "#%%\n",
     "is_executing": true
    }
   }
  },
  {
   "cell_type": "code",
   "execution_count": null,
   "outputs": [],
   "source": [
    "# Store distance matrix into results\n",
    "distance_matrix.to_pickle(f\"{ROOT_DIR}/results/artist_genres_distance_matrix.pickle\")"
   ],
   "metadata": {
    "collapsed": false,
    "pycharm": {
     "name": "#%%\n",
     "is_executing": true
    }
   }
  },
  {
   "cell_type": "code",
   "execution_count": null,
   "outputs": [],
   "source": [
    "artist_similarity_array = distance_matrix[\"3nFkdlSjzX9mRTtwJOzDYB\"].sort_values()"
   ],
   "metadata": {
    "collapsed": false,
    "pycharm": {
     "name": "#%%\n",
     "is_executing": true
    }
   }
  },
  {
   "cell_type": "code",
   "execution_count": null,
   "outputs": [],
   "source": [
    "artist_similarity_array.head(15)"
   ],
   "metadata": {
    "collapsed": false,
    "pycharm": {
     "name": "#%%\n",
     "is_executing": true
    }
   }
  },
  {
   "cell_type": "code",
   "execution_count": null,
   "outputs": [],
   "source": [
    "df_track_artist_with_interactions.query(\"artist_uri=='0auu2itHTxEdAMRHvx7CyG'\")"
   ],
   "metadata": {
    "collapsed": false,
    "pycharm": {
     "name": "#%%\n",
     "is_executing": true
    }
   }
  },
  {
   "cell_type": "code",
   "execution_count": null,
   "outputs": [],
   "source": [
    "similar_artists = artist_similarity_array.head(20).index.to_list()"
   ],
   "metadata": {
    "collapsed": false,
    "pycharm": {
     "name": "#%%\n",
     "is_executing": true
    }
   }
  },
  {
   "cell_type": "code",
   "execution_count": null,
   "outputs": [],
   "source": [
    "df_track_artist_with_interactions.query(\"artist_uri in @similar_artists\")"
   ],
   "metadata": {
    "collapsed": false,
    "pycharm": {
     "name": "#%%\n",
     "is_executing": true
    }
   }
  }
 ],
 "metadata": {
  "kernelspec": {
   "display_name": "Python 3",
   "language": "python",
   "name": "python3"
  },
  "language_info": {
   "codemirror_mode": {
    "name": "ipython",
    "version": 2
   },
   "file_extension": ".py",
   "mimetype": "text/x-python",
   "name": "python",
   "nbconvert_exporter": "python",
   "pygments_lexer": "ipython2",
   "version": "2.7.6"
  }
 },
 "nbformat": 4,
 "nbformat_minor": 0
}